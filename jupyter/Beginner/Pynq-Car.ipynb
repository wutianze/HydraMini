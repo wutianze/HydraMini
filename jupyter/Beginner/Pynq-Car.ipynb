{
 "cells": [
  {
   "cell_type": "markdown",
   "metadata": {},
   "source": [
    "# PYNQ Car - Application Notebook\n",
    "\n",
    "This reference design illustrates how to control the car using Jupyter Notebooks and Python\n",
    "![Pynq-Car](./imgs/pynq-car.png)\n",
    "\n",
    "# Drive the car by Human\n",
    "\n",
    "## Import libraries"
   ]
  },
  {
   "cell_type": "code",
   "execution_count": 3,
   "metadata": {},
   "outputs": [],
   "source": [
    "#from PIL import Image\n",
    "import numpy as np\n",
    "#from pynq import Xlnk\n",
    "#from pynq import Overlay\n",
    "import time\n",
    "import ipywidgets as widgets\n",
    "from IPython.display import display\n",
    "from car_control import* "
   ]
  },
  {
   "cell_type": "markdown",
   "metadata": {},
   "source": [
    "## Download the Image Processing IP bitstream"
   ]
  },
  {
   "cell_type": "code",
   "execution_count": 5,
   "metadata": {},
   "outputs": [],
   "source": [
    "pynq_car = Overlay(\"./Pynq-Car.bit\")\n",
    "timer0 = pynq_car.axi_timer_0\n",
    "timer1 = pynq_car.axi_timer_1"
   ]
  },
  {
   "cell_type": "code",
   "execution_count": 6,
   "metadata": {},
   "outputs": [],
   "source": [
    "leds = pynq_car.axi_gpio_1\n",
    "buttons = pynq_car.axi_gpio_0"
   ]
  },
  {
   "cell_type": "markdown",
   "metadata": {},
   "source": [
    "## Set the leds in Pynq, you should see the lights change after runing the following code"
   ]
  },
  {
   "cell_type": "code",
   "execution_count": 7,
   "metadata": {},
   "outputs": [],
   "source": [
    "leds.write(0x04,0x00)\n",
    "leds.write(0x00,0x0A)"
   ]
  },
  {
   "cell_type": "code",
   "execution_count": 15,
   "metadata": {},
   "outputs": [
    {
     "data": {
      "text/plain": [
       "0"
      ]
     },
     "execution_count": 15,
     "metadata": {},
     "output_type": "execute_result"
    }
   ],
   "source": [
    "#buttons.write(0x04,0x0F)\n",
    "#button_status= buttons.read(0x00)\n",
    "#button_status"
   ]
  },
  {
   "cell_type": "markdown",
   "metadata": {},
   "source": [
    "# Speed Control Example"
   ]
  },
  {
   "cell_type": "code",
   "execution_count": null,
   "metadata": {},
   "outputs": [],
   "source": [
    "#   speed         -100         0           100\n",
    "# paramenter     90000       140000      180000"
   ]
  },
  {
   "cell_type": "markdown",
   "metadata": {},
   "source": [
    "## Set the speed zero value and range"
   ]
  },
  {
   "cell_type": "code",
   "execution_count": null,
   "metadata": {},
   "outputs": [],
   "source": [
    "Speed_Zero = 140000.0\n",
    "Speed_Range = 40000.0"
   ]
  },
  {
   "cell_type": "markdown",
   "metadata": {},
   "source": [
    "## Try moving forward"
   ]
  },
  {
   "cell_type": "code",
   "execution_count": 83,
   "metadata": {},
   "outputs": [],
   "source": [
    "pwm(timer0,500000, Speed_Zero)"
   ]
  },
  {
   "cell_type": "code",
   "execution_count": 84,
   "metadata": {},
   "outputs": [],
   "source": [
    "pwm_start(timer0)"
   ]
  },
  {
   "cell_type": "code",
   "execution_count": 88,
   "metadata": {},
   "outputs": [],
   "source": [
    "#\n",
    "pwm(timer0,500000, Speed_Zero+Speed_Range*0.5)"
   ]
  },
  {
   "cell_type": "markdown",
   "metadata": {},
   "source": [
    "# Steering Engine Control Example"
   ]
  },
  {
   "cell_type": "code",
   "execution_count": 52,
   "metadata": {},
   "outputs": [],
   "source": [
    "# angle       -60°           0°          60°\n",
    "#6.07V:  50000  0.5ms, 100000 1.5ms, 150000 1.5ms\n",
    "#5.00V:  100000 1.0ms, 150000 1.5ms, 200000 2.0ms\n",
    "#3.30V:  151515 1.5ms, 227272 2.2ms, 303030 3.3ms"
   ]
  },
  {
   "cell_type": "markdown",
   "metadata": {},
   "source": [
    "## Set the steer zero value and range"
   ]
  },
  {
   "cell_type": "code",
   "execution_count": null,
   "metadata": {},
   "outputs": [],
   "source": [
    "Steer_Zero = 100000.0\n",
    "Steer_Range = 50000.0"
   ]
  },
  {
   "cell_type": "markdown",
   "metadata": {},
   "source": [
    "## Try turning left"
   ]
  },
  {
   "cell_type": "code",
   "execution_count": 10,
   "metadata": {},
   "outputs": [],
   "source": [
    "pwm(timer1,2000000, Steer_Zero)"
   ]
  },
  {
   "cell_type": "code",
   "execution_count": 11,
   "metadata": {},
   "outputs": [],
   "source": [
    "pwm_start(timer1)"
   ]
  },
  {
   "cell_type": "code",
   "execution_count": 12,
   "metadata": {},
   "outputs": [],
   "source": [
    "#\n",
    "pwm(timer1,2000000, Steer_Zero - Steer_Range * 0.5)"
   ]
  },
  {
   "cell_type": "markdown",
   "metadata": {},
   "source": [
    "# Use the following sliders to control the car"
   ]
  },
  {
   "cell_type": "code",
   "execution_count": 3,
   "metadata": {},
   "outputs": [
    {
     "data": {
      "application/vnd.jupyter.widget-view+json": {
       "model_id": "266a86b4c0324741bd0ab710312acf42",
       "version_major": 2,
       "version_minor": 0
      },
      "text/plain": [
       "IntSlider(value=0, description='Steer：', max=5, min=-5)"
      ]
     },
     "metadata": {},
     "output_type": "display_data"
    },
    {
     "data": {
      "application/vnd.jupyter.widget-view+json": {
       "model_id": "a7ab89bff2ad416997029ed39f6c0fa7",
       "version_major": 2,
       "version_minor": 0
      },
      "text/plain": [
       "IntSlider(value=0, description='Speed：', max=5, min=-5)"
      ]
     },
     "metadata": {},
     "output_type": "display_data"
    }
   ],
   "source": [
    "slider1 = widgets.IntSlider(min=-5,max=5,step=1,description='Steer：',value=0)\n",
    "slider2 = widgets.IntSlider(min=-5,max=5,step=1,description='Speed：',value=0)\n",
    "display(slider1)\n",
    "display(slider2)\n",
    "def steer_handler(attrs):\n",
    "    pwm(timer1,2000000,Steer_Range*attrs.new/5.0 + Steer_Zero)\n",
    "    #print(attrs.new)\n",
    "def speed_handler(attrs):\n",
    "    pwm(timer0,500000,Speed_Range*attrs.new/5.0 + Speed_Zero)\n",
    "    #print(attrs.new)\n",
    "slider1.observe(steer_handler,names='value')\n",
    "slider2.observe(speed_handler,names='value')"
   ]
  },
  {
   "cell_type": "markdown",
   "metadata": {},
   "source": [
    "# Drive the car by AI\n",
    "\n",
    "## What we omit here?\n",
    "Here we provide a processed .elf which can be run in DPU. If you want to build one, please refer to L2 part.\n",
    "The whole process should be:\n",
    "1. Collect training data: control the car using keyboard\n",
    "2. Train a model\n",
    "3. Use DNNDK to optimize the model\n",
    "4. Run the optimized model in DPU\n",
    "This time we will jump to step 4, the optimized model is provided in `Car/model`.\n",
    "\n",
    "## End-to-End model\n",
    "This model inputs images and outputs speed & steer values as control signals.\n",
    "![AI model](./imgs/ns.png)\n",
    "\n",
    "## Control structure:Producer & Consumer\n",
    "![Producer_Consumer](./imgs/p_c.png)\n",
    "\n",
    "## Load the dpu.ko and compile\n",
    "Now please open a new terminal and follow the commands below to run the car autonomously.\n",
    "\n",
    "```shell\n",
    "cd Car\n",
    "su\n",
    "insmod /home/xilinx/dpu.ko\n",
    "xauth merge /home/xilinx/.Xauthority\n",
    "make run\n",
    "```"
   ]
  },
  {
   "cell_type": "markdown",
   "metadata": {},
   "source": [
    "## Now let's rock\n",
    "Usage of this exe: ./car c/n/s(n means just use ml, c means use ml & cv, s means use ml and build web server) 0.5(run speed, this time it's useless since the model outputs throttle value directly)\n",
    "\n",
    "```shell\n",
    "./build/run s # if the web server building goes wrong, use n instead\n",
    "```\n",
    "\n",
    "## You can see the output values through http connection if the web server is up"
   ]
  },
  {
   "cell_type": "code",
   "execution_count": 13,
   "metadata": {},
   "outputs": [
    {
     "data": {
      "application/vnd.jupyter.widget-view+json": {
       "model_id": "f8bde91570b54888b5118b922f9975a2",
       "version_major": 2,
       "version_minor": 0
      },
      "text/plain": [
       "FloatProgress(value=0.0, bar_style='info', description='Steer:', max=1.0, min=-1.0)"
      ]
     },
     "metadata": {},
     "output_type": "display_data"
    },
    {
     "data": {
      "application/vnd.jupyter.widget-view+json": {
       "model_id": "ac9add47d02e427f8ce31c26067bef0b",
       "version_major": 2,
       "version_minor": 0
      },
      "text/plain": [
       "FloatProgress(value=0.0, bar_style='info', description='Speed:', max=1.0, min=-1.0)"
      ]
     },
     "metadata": {},
     "output_type": "display_data"
    }
   ],
   "source": [
    "import requests\n",
    "import time\n",
    "\n",
    "# Define two bar\n",
    "steer_show = widgets.FloatProgress(\n",
    "    value=0,\n",
    "    min=-1.,\n",
    "    max=1.0,\n",
    "    step=0.1,\n",
    "    description='Steer:',\n",
    "    bar_style='info',\n",
    "    orientation='horizontal'\n",
    ")\n",
    "speed_show = widgets.FloatProgress(\n",
    "    value=0,\n",
    "    min=-1,\n",
    "    max=1.0,\n",
    "    step=0.1,\n",
    "    description='Speed:',\n",
    "    bar_style='info',\n",
    "    orientation='horizontal'\n",
    ")\n",
    "display(steer_show, speed_show)\n",
    "\n",
    "\n"
   ]
  },
  {
   "cell_type": "code",
   "execution_count": 10,
   "metadata": {},
   "outputs": [],
   "source": [
    "while True:\n",
    "    r = requests.get('http://localhost:9090/st')\n",
    "    steer_show.value = float(r.json()['steer'])\n",
    "    speed_show.value = float(r.json()['throttle'])\n",
    "    #print(r.json())\n",
    "    time.sleep(1)"
   ]
  }
 ],
 "metadata": {
  "kernelspec": {
   "display_name": "Python 3",
   "language": "python",
   "name": "python3"
  },
  "language_info": {
   "codemirror_mode": {
    "name": "ipython",
    "version": 3
   },
   "file_extension": ".py",
   "mimetype": "text/x-python",
   "name": "python",
   "nbconvert_exporter": "python",
   "pygments_lexer": "ipython3",
   "version": "3.7.3"
  }
 },
 "nbformat": 4,
 "nbformat_minor": 2
}
